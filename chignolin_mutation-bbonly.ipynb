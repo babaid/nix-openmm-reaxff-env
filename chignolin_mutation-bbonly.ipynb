{
 "cells": [
  {
   "cell_type": "code",
   "execution_count": 1,
   "id": "9a2edab2-ce0f-406e-a5f6-d0cd4b826062",
   "metadata": {
    "jp-MarkdownHeadingCollapsed": true,
    "scrolled": true
   },
   "outputs": [],
   "source": [
    "import os\n",
    "from alive_progress import alive_bar\n",
    "from openmm import app, unit, Vec3, ReaxffForce, Platform, LangevinIntegrator\n",
    "from openmm.app import StateDataReporter, PDBFile, Modeller, ForceField, Simulation, PDBReporter\n",
    "from utils.ReaxFFHelpers  import setup_reaxff_atoms, remove_extra_forces, get_nonbonded_forces, switch_nonbonded_force\n",
    "from utils.TopologyTools import TopologyTools"
   ]
  },
  {
   "cell_type": "code",
   "execution_count": 2,
   "id": "811e6370-eaea-46ef-a2fd-6b2dfe77a1cb",
   "metadata": {},
   "outputs": [
    {
     "name": "stdout",
     "output_type": "stream",
     "text": [
      "Warning, renaming chain, old chain id was  A .\n"
     ]
    }
   ],
   "source": [
    "# load protein and label chains as PROTEIN-0, PROTEIN-1, ...\n",
    "protein = PDBFile(\"chig.pdb\")\n",
    "TopologyTools.add_chain_name(\"PROTEIN\", protein.topology)"
   ]
  },
  {
   "cell_type": "code",
   "execution_count": 3,
   "id": "f6a6f1a8-94b2-4e6d-bf0b-e72ad5daf36c",
   "metadata": {},
   "outputs": [],
   "source": [
    "# The modeller instance holds the topology and the positions openmm is going to use in the simulation\n",
    "# and has useful functions like addSolvent and addHydrogens\n",
    "modeller = Modeller(protein.topology, protein.positions)"
   ]
  },
  {
   "cell_type": "code",
   "execution_count": 4,
   "id": "8939ef18-f2a1-4db2-937d-013352e1b073",
   "metadata": {},
   "outputs": [],
   "source": [
    "# protein and water forcefield\n",
    "forcefield = ForceField(\"amber14/protein.ff14SB.xml\", \"amber14/tip3p.xml\")"
   ]
  },
  {
   "cell_type": "code",
   "execution_count": 5,
   "id": "8431e588-dadf-4537-924c-bfac5c5d7047",
   "metadata": {},
   "outputs": [],
   "source": [
    "#solvate the system in an 8x8x8 nm^3 water box with tip3p water\n",
    "modeller.addSolvent(forcefield, model=\"tip3p\", boxSize=4*Vec3(1, 1, 1 )*unit.nanometers)"
   ]
  },
  {
   "cell_type": "code",
   "execution_count": 6,
   "id": "c55b7e56-97c6-4900-b752-1bfb74d3b1d0",
   "metadata": {
    "scrolled": true
   },
   "outputs": [],
   "source": [
    "# create the system\n",
    "system = forcefield.createSystem(modeller.topology, #\n",
    "                                 nonbondedCutoff=1.1*unit.nanometers,\n",
    "                                switchDistance=1.0*unit.nanometers,\n",
    "                                 hydrogenMass=4*unit.amu,\n",
    "                                 rigidWater=True,\n",
    "                                 constraints=app.AllBonds,\n",
    "                                 nonbondedMethod=app.CutoffPeriodic,\n",
    "                                 removeCMMotion=False\n",
    "                                )"
   ]
  },
  {
   "cell_type": "code",
   "execution_count": 7,
   "id": "edc24d8a-581d-41de-b2d5-0edba3396ab8",
   "metadata": {},
   "outputs": [],
   "source": [
    "reax_atoms = []\n",
    "link_atom_1 = None\n",
    "link_atom_2 = None\n",
    "backbone = [\"N\", \"CA\", \"C\", \"O\", \"HA\", \"H\"]\n",
    "\n",
    "for chain in modeller.topology.chains():\n",
    "    if chain.id.startswith(\"PROTEIN\"):\n",
    "        for residue in chain.residues():\n",
    "            if residue.name == \"MET\":\n",
    "                for atom in residue.atoms():\n",
    "                    if atom.name not in backbone:\n",
    "                        reax_atoms.append(atom.index)\n",
    "                    if atom.name == \"CA\":\n",
    "                        link_atom_1 = atom.index\n",
    "                    if atom.name == \"CB\":\n",
    "                        link_atom_2 = atom.index\n",
    "\n",
    "atom_symbols = [atom.element.symbol for atom in modeller.topology.atoms()]"
   ]
  },
  {
   "cell_type": "code",
   "execution_count": 8,
   "id": "d9e15c19-acfa-42a1-a511-1c87f6652cbf",
   "metadata": {},
   "outputs": [],
   "source": [
    "# create a list of the reaxff atom indices and all of the atom symbols\n",
    "atom_symbols = [atom.element.symbol for atom in modeller.topology.atoms()]"
   ]
  },
  {
   "cell_type": "code",
   "execution_count": 9,
   "id": "008ee24e-5d2b-402f-8fcb-21afe246e3b5",
   "metadata": {},
   "outputs": [],
   "source": [
    "# define the reaxff force\n",
    "# ffield.reaxff: force field parameters\n",
    "# control: defines control parameters, like charge equilibriation algorithm, cutoffs, etc.\n",
    "force = ReaxffForce(\"/home/babaid/repos/reaxff-mm-examples/ffield.reaxff\", \n",
    "                            \"/home/babaid/repos/reaxff-mm-examples/control\", 1)\n",
    "\n",
    "\n",
    "system.addForce(force)\n",
    "force.setForceGroup(1)"
   ]
  },
  {
   "cell_type": "code",
   "execution_count": 10,
   "id": "23ea9010-beac-4f8e-8476-5a68aa39f58d",
   "metadata": {},
   "outputs": [
    {
     "name": "stdout",
     "output_type": "stream",
     "text": [
      "Number of bond forces before update:  0\n",
      "Number of bond forces after update:  0\n",
      "Number of angle forces before update:  255\n",
      "Number of angle forces after update:  233\n",
      "Number of torsion forces before update:  452\n",
      "Number of torsion forces after update:  410\n"
     ]
    }
   ],
   "source": [
    "remove_extra_forces(system, reax_atoms, True)"
   ]
  },
  {
   "cell_type": "code",
   "execution_count": 11,
   "id": "3c8c1f77-a1af-44b6-a1dc-9d0b105517b9",
   "metadata": {},
   "outputs": [],
   "source": [
    "reaxff_nonbonded_force = get_nonbonded_forces(system, reax_atoms, atom_symbols, force, [link_atom_1])"
   ]
  },
  {
   "cell_type": "code",
   "execution_count": 12,
   "id": "51f9dab1-fd7d-4e68-b0b5-5879b40a4cee",
   "metadata": {},
   "outputs": [],
   "source": [
    "force.addLink(link_atom_2, link_atom_1)"
   ]
  },
  {
   "cell_type": "code",
   "execution_count": 13,
   "id": "dc915e18-3e2b-4e60-ba12-fb68d57e3d28",
   "metadata": {},
   "outputs": [
    {
     "name": "stdout",
     "output_type": "stream",
     "text": [
      "HarmonicBondForce :  0\n",
      "PeriodicTorsionForce :  0\n",
      "NonbondedForce :  0\n",
      "HarmonicAngleForce :  0\n",
      "ReaxFFForce :  1\n",
      "HarmonicAngleForce :  1\n",
      "HarmonicBondForce :  1\n",
      "PeriodicTorsionForce :  1\n"
     ]
    }
   ],
   "source": [
    "for force in system.getForces():\n",
    "    print(force.getName(), \": \", force.getForceGroup() )"
   ]
  },
  {
   "cell_type": "code",
   "execution_count": 14,
   "id": "df73b8b5-e2e5-4443-bee4-7ba7bf36ff69",
   "metadata": {},
   "outputs": [
    {
     "name": "stdout",
     "output_type": "stream",
     "text": [
      "Removed  10  constraints.\n"
     ]
    }
   ],
   "source": [
    "ncs = system.getNumConstraints()\n",
    "for i in range(system.getNumConstraints() - 1, -1, -1):\n",
    "    particle1, particle2, dist = system.getConstraintParameters(i)\n",
    "    if (particle1 in reax_atoms) and (particle2 in reax_atoms):\n",
    "        system.removeConstraint(i) \n",
    "print(\"Removed \", ncs-system.getNumConstraints(), \" constraints.\")"
   ]
  },
  {
   "cell_type": "code",
   "execution_count": 15,
   "id": "b71860d5-41e7-42b4-b302-314c3086223c",
   "metadata": {},
   "outputs": [],
   "source": [
    "switch_nonbonded_force(system, reaxff_nonbonded_force)"
   ]
  },
  {
   "cell_type": "code",
   "execution_count": 16,
   "id": "44adaa77-d433-452a-9a02-a95db489983d",
   "metadata": {},
   "outputs": [
    {
     "name": "stdout",
     "output_type": "stream",
     "text": [
      "Number of MM atoms:  6096\n"
     ]
    }
   ],
   "source": [
    "#the list of indices of not reactive atoms\n",
    "non_reax_atoms = [atom.index for atom in modeller.topology.atoms() if atom.index not in reax_atoms]\n",
    "print(\"Number of MM atoms: \", len(non_reax_atoms))"
   ]
  },
  {
   "cell_type": "markdown",
   "id": "c92148fc-fef6-4368-bc69-9934cb005c09",
   "metadata": {},
   "source": [
    "# Restraints and SMD setup"
   ]
  },
  {
   "cell_type": "code",
   "execution_count": 17,
   "id": "df0879a6-0e23-4e12-9fa3-2581819a3b7d",
   "metadata": {},
   "outputs": [
    {
     "data": {
      "text/plain": [
       "'CUDA'"
      ]
     },
     "execution_count": 17,
     "metadata": {},
     "output_type": "execute_result"
    }
   ],
   "source": [
    "# use CUDA for computation (other options: OpenCL, CPU, Reference) \n",
    "platform = Platform.getPlatform(\"CUDA\")\n",
    "platform.getName()"
   ]
  },
  {
   "cell_type": "code",
   "execution_count": 18,
   "id": "76ec6173-073a-4a71-a0d7-0e7620958363",
   "metadata": {},
   "outputs": [],
   "source": [
    "# Langevin dynamics, at 300K with a friction coefficient of 10/ps and timestep of 0.25fs\n",
    "integrator = LangevinIntegrator(300*unit.kelvin, 10/unit.picosecond, 1*unit.femtosecond)\n",
    "\n",
    "simulation = Simulation(modeller.topology, system, integrator, platform)\n",
    "\n",
    "simulation.context.setPositions(modeller.positions)\n",
    "simulation.reporters.append(PDBReporter('NVT.pdb', 1000))"
   ]
  },
  {
   "cell_type": "code",
   "execution_count": 19,
   "id": "623c7f0d-082b-482b-bd5f-eab3e62943ee",
   "metadata": {},
   "outputs": [],
   "source": [
    "# this function modifies the bond dissociation energy of all the hydrogen bonds\n",
    "#modify_reaxff_dissociation_energy_with_ratio(\"../ffield.reaxff\", \"ffield.reaxff\", 1.0)\n",
    "integrator.setIntegrationForceGroups({1})"
   ]
  },
  {
   "cell_type": "code",
   "execution_count": null,
   "id": "7d3b8225-8aac-4630-b5f6-818f41426ce7",
   "metadata": {
    "scrolled": true
   },
   "outputs": [],
   "source": [
    "simulation.minimizeEnergy()"
   ]
  },
  {
   "cell_type": "code",
   "execution_count": null,
   "id": "4929d229-ee37-47b7-9169-98880a1a40c3",
   "metadata": {},
   "outputs": [],
   "source": [
    "# STEERED MD STAGE 1: NVT HEATUP\n",
    "# Parameters. Time -> 1ns T -> 300K\n",
    "temperature = 0*unit.kelvin\n",
    "dt = 3*unit.kelvin\n",
    "print(\"NVT Heatup\")\n",
    "with alive_bar(100, force_tty=True) as bar:\n",
    "    for i in range(100):\n",
    "        temperature += dt\n",
    "        integrator.setTemperature(temperature)\n",
    "        simulation.step(params[\"steps\"]/100)\n",
    "        bar()\n",
    "print(\"Done.\")"
   ]
  },
  {
   "cell_type": "code",
   "execution_count": null,
   "id": "9a94f4bb-9cdf-4cde-b25f-dc0d90103fca",
   "metadata": {},
   "outputs": [],
   "source": [
    "!jupyter nbconvert --to script chignolin_mutation-bbonly.ipynb"
   ]
  },
  {
   "cell_type": "code",
   "execution_count": null,
   "id": "eca23540-d625-4763-b33d-348545ec7221",
   "metadata": {},
   "outputs": [],
   "source": []
  }
 ],
 "metadata": {
  "kernelspec": {
   "display_name": "Python 3 (ipykernel)",
   "language": "python",
   "name": "python3"
  },
  "language_info": {
   "codemirror_mode": {
    "name": "ipython",
    "version": 3
   },
   "file_extension": ".py",
   "mimetype": "text/x-python",
   "name": "python",
   "nbconvert_exporter": "python",
   "pygments_lexer": "ipython3",
   "version": "3.12.10"
  }
 },
 "nbformat": 4,
 "nbformat_minor": 5
}
